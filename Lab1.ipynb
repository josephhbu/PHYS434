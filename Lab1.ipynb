{
 "cells": [
  {
   "cell_type": "markdown",
   "id": "28518ae4-4372-4617-8b59-a2527ca4ef9d",
   "metadata": {},
   "source": [
    "# PHYS 434 Lab 1"
   ]
  },
  {
   "cell_type": "markdown",
   "id": "8dee82f6-a2a6-411c-9dc9-147fb669b051",
   "metadata": {},
   "source": [
    "### Joseph Bu"
   ]
  },
  {
   "cell_type": "code",
   "execution_count": 1,
   "id": "3eec3e46-f33e-40b1-a26f-2063811a16e8",
   "metadata": {},
   "outputs": [],
   "source": [
    "import numpy as np\n",
    "import matplotlib\n",
    "import matplotlib.pyplot as plt\n",
    "import scipy\n",
    "from scipy import stats\n",
    "import math\n",
    "\n",
    "plt.rcParams[\"figure.figsize\"] = (15,10)"
   ]
  },
  {
   "cell_type": "markdown",
   "id": "7a42b467-60d5-482c-b857-662d2fe42389",
   "metadata": {},
   "source": [
    "## A little Statistics"
   ]
  },
  {
   "cell_type": "markdown",
   "id": "871e5116-c44f-4739-a3e1-650323f786a2",
   "metadata": {},
   "source": [
    "### Visualizing the Standard Normal Distribution"
   ]
  },
  {
   "cell_type": "code",
   "execution_count": 2,
   "id": "aab821a0-3b83-483d-8072-9bf47f8d2b04",
   "metadata": {},
   "outputs": [],
   "source": [
    "d_norm = stats.norm.rvs(loc = 0, scale = 1, size = 100000)"
   ]
  },
  {
   "cell_type": "code",
   "execution_count": 12,
   "id": "ddcdb541-618e-4bf0-9e36-ecac16e5b4a4",
   "metadata": {},
   "outputs": [
    {
     "data": {
      "image/png": "[encoded data removed]",
      "text/plain": [
       "<Figure size 1080x720 with 1 Axes>"
      ]
     },
     "metadata": {
      "needs_background": "light"
     },
     "output_type": "display_data"
    }
   ],
   "source": [
    "fig, ax = plt.subplots(1, 1)\n",
    "ax.hist(d_norm,50, density=True)\n",
    "plt.show()"
   ]
  },
  {
   "cell_type": "markdown",
   "id": "31d3d3dd-e611-400d-a5cb-eca48a9f0a51",
   "metadata": {},
   "source": [
    "### Integrating standard normal distribution and testing different sigmas to find different probabilities"
   ]
  },
  {
   "cell_type": "code",
   "execution_count": 4,
   "id": "883e7d26-941c-4ea9-8837-71de6ecbf86e",
   "metadata": {},
   "outputs": [],
   "source": [
    "p1 = stats.norm.cdf(1, loc = 0, scale = 1)\n",
    "p2 = stats.norm.cdf(1, loc = 0, scale = 2)\n",
    "p3 = stats.norm.cdf(1, loc = 0, scale = 5)\n",
    "p4 = stats.norm.cdf(1, loc = 0, scale = 10)\n",
    "p5 = stats.norm.cdf(1, loc = 0, scale = 15)\n"
   ]
  },
  {
   "cell_type": "code",
   "execution_count": 5,
   "id": "fee7e075-5673-4a10-9236-e4f15c5fbdd1",
   "metadata": {},
   "outputs": [
    {
     "data": {
      "text/plain": [
       "(0.8413447460685429,\n",
       " 0.6914624612740131,\n",
       " 0.579259709439103,\n",
       " 0.539827837277029,\n",
       " 0.5265764643003651)"
      ]
     },
     "execution_count": 5,
     "metadata": {},
     "output_type": "execute_result"
    }
   ],
   "source": [
    "(p1, p2, p3, p4, p5)"
   ]
  },
  {
   "cell_type": "markdown",
   "id": "c608a823-7689-451b-be4e-f06f6c86300a",
   "metadata": {},
   "source": [
    "### Gathering sigma values from testing different known probabilities"
   ]
  },
  {
   "cell_type": "code",
   "execution_count": 6,
   "id": "a7973ef4-98bc-4025-9b07-b2801907550b",
   "metadata": {},
   "outputs": [],
   "source": [
    "sig1 = stats.norm.ppf(.8413, loc = 0, scale = 1) #1 sigma\n",
    "sig2 = stats.norm.ppf(.9332, loc = 0, scale = 1) #1.5 sigma\n",
    "sig3 = stats.norm.ppf(.9773, loc = 0, scale = 1) #2 sigma\n",
    "sig4 = stats.norm.ppf(.9987 , loc = 0, scale = 1) #3 sigma\n",
    "sig5 = stats.norm.ppf(.9998, loc = 0, scale = 1) #3.5 sigma\n"
   ]
  },
  {
   "cell_type": "code",
   "execution_count": 7,
   "id": "9e8483d7-f965-4cb1-9dcd-7e10cb4d8482",
   "metadata": {},
   "outputs": [
    {
     "data": {
      "text/plain": [
       "(0.9998150936147446,\n",
       " 1.5000556030177843,\n",
       " 2.000929388101571,\n",
       " 3.011453758499792,\n",
       " 3.540083799206175)"
      ]
     },
     "execution_count": 7,
     "metadata": {},
     "output_type": "execute_result"
    }
   ],
   "source": [
    "(sig1, sig2, sig3, sig4, sig5)"
   ]
  },
  {
   "cell_type": "markdown",
   "id": "37a82cb4-1e34-49a0-817e-0f1b6e115324",
   "metadata": {},
   "source": [
    "### Lognormal Distribution"
   ]
  },
  {
   "cell_type": "markdown",
   "id": "92b84da6-19ed-44c2-b74f-86b009463d4f",
   "metadata": {},
   "source": [
    "$f(x,\\sigma)=\\frac{1}{x\\sigma\\sqrt{2\\pi}}exp(-\\frac{log^2(x)}{2\\sigma^2})$ for $x>0, \\sigma>0$"
   ]
  },
  {
   "cell_type": "code",
   "execution_count": 8,
   "id": "06a6e46f-a6c9-4e16-a265-dff03d440523",
   "metadata": {},
   "outputs": [],
   "source": [
    "d_lognorm = stats.lognorm.rvs(s = 1, loc = 0, scale = 1, size = 100000)"
   ]
  },
  {
   "cell_type": "code",
   "execution_count": 16,
   "id": "cc89d6eb-76e5-4139-911a-762414ddc260",
   "metadata": {},
   "outputs": [
    {
     "data": {
      "image/png": "[encoded data removed]",
      "text/plain": [
       "<Figure size 1080x720 with 1 Axes>"
      ]
     },
     "metadata": {
      "needs_background": "light"
     },
     "output_type": "display_data"
    }
   ],
   "source": [
    "s = 1\n",
    "fig, ax = plt.subplots(1, 1)\n",
    "ax.hist(d_lognorm, 50, density=True)\n",
    "\n",
    "\n",
    "x = np.linspace(stats.lognorm.ppf(0.01, s),\n",
    "                stats.lognorm.ppf(0.99, s),100)\n",
    "ax.plot(x, stats.lognorm.pdf(x, s), linewidth=8, alpha=0.6)\n",
    "plt.show()"
   ]
  },
  {
   "cell_type": "markdown",
   "id": "9bfaafbc-95b6-45aa-9207-b949ee8bbb60",
   "metadata": {},
   "source": [
    "#### Hypothetical measurement"
   ]
  },
  {
   "cell_type": "markdown",
   "id": "0f274c5c-7c69-4727-9173-3897a3cc1602",
   "metadata": {},
   "source": [
    "So for our hypothetical measurement, let us determine the probability of finding a measurement from the background giving a value of 8.21 or more. So the question is, wwhat is the probability of obtaining a value of 8.21 or more from the background signal?"
   ]
  },
  {
   "cell_type": "markdown",
   "id": "6b9578f4-77a2-462a-868a-20425be969ce",
   "metadata": {},
   "source": [
    "$\\int\\limits_{8.21}^{infinity}\\frac{1}{x\\sigma\\sqrt{2\\pi}}exp(-\\frac{log^2(x)}{2\\sigma^2})dx$ for $x>0, \\sigma>0$"
   ]
  },
  {
   "cell_type": "code",
   "execution_count": 28,
   "id": "b1af19cc-7e43-4583-a49f-1bde7172e227",
   "metadata": {},
   "outputs": [
    {
     "data": {
      "text/plain": [
       "0.017630299221718677"
      ]
     },
     "execution_count": 28,
     "metadata": {},
     "output_type": "execute_result"
    }
   ],
   "source": [
    "measure = 8.21\n",
    "prob = stats.lognorm.sf(x=8.21, s=1, loc=0, scale=1)\n",
    "prob"
   ]
  },
  {
   "cell_type": "code",
   "execution_count": 29,
   "id": "c4bb5be0-83f2-457e-ad20-c7d375a90b40",
   "metadata": {},
   "outputs": [
    {
     "data": {
      "text/plain": [
       "2.105352923464337"
      ]
     },
     "execution_count": 29,
     "metadata": {},
     "output_type": "execute_result"
    }
   ],
   "source": [
    "lognorm_sigma = -stats.norm.ppf(prob)\n",
    "lognorm_sigma"
   ]
  },
  {
   "cell_type": "markdown",
   "id": "5b749f41-d1bf-47c0-9c67-fade69023c63",
   "metadata": {},
   "source": [
    "So the probability of obtaining a measurement of 8.21 from only the background is 1.76%. This probabilitiy is about 2.1 sigma."
   ]
  },
  {
   "cell_type": "markdown",
   "id": "2517ec9f-50cd-4fb3-a75a-c51039c174e3",
   "metadata": {},
   "source": [
    "Now to test more hypothetical measurement values."
   ]
  },
  {
   "cell_type": "code",
   "execution_count": 30,
   "id": "8dded027-e8aa-48d0-a392-ac54f7894ca7",
   "metadata": {},
   "outputs": [
    {
     "data": {
      "text/plain": [
       "(0.053760310451663136, 0.028578549358634634, 0.010651099341700122)"
      ]
     },
     "execution_count": 30,
     "metadata": {},
     "output_type": "execute_result"
    }
   ],
   "source": [
    "measure_1 = 5\n",
    "measure_2 = 6.7\n",
    "measure_3 = 10\n",
    "\n",
    "prob_1 = stats.lognorm.sf(x=measure_1, s=1, loc=0, scale=1)\n",
    "prob_2 = stats.lognorm.sf(x=measure_2, s=1, loc=0, scale=1)\n",
    "prob_3 = stats.lognorm.sf(x=measure_3, s=1, loc=0, scale=1)\n",
    "\n",
    "prob_1, prob_2, prob_3"
   ]
  },
  {
   "cell_type": "code",
   "execution_count": 31,
   "id": "e883b5b3-8e7b-4747-aee4-5084a566875c",
   "metadata": {},
   "outputs": [
    {
     "data": {
      "text/plain": [
       "(1.6094379124341003, 1.902107526396921, 2.302585092994046)"
      ]
     },
     "execution_count": 31,
     "metadata": {},
     "output_type": "execute_result"
    }
   ],
   "source": [
    "sigma_1 = -stats.norm.ppf(prob_1)\n",
    "sigma_2 = -stats.norm.ppf(prob_2)\n",
    "sigma_3 = -stats.norm.ppf(prob_3)\n",
    "\n",
    "sigma_1, sigma_2, sigma_3"
   ]
  },
  {
   "cell_type": "markdown",
   "id": "7c1768bd-bae9-4007-a2fb-6b61ee7b50a3",
   "metadata": {},
   "source": [
    "## Non-continuous distributions: Binomial"
   ]
  },
  {
   "cell_type": "markdown",
   "id": "8f9064fb-3583-4f3a-b86a-f0b3a566e116",
   "metadata": {},
   "source": [
    "The binomial distribution is used to obtain the probability of observing $n$ successes in $k$ trials, with the probability of success on a single trial $p$. So this distribution is used when there are two mutually exclusive outcomes of a trial."
   ]
  },
  {
   "cell_type": "markdown",
   "id": "f0e73f76-51d1-42c1-aba3-3ebb4edae96d",
   "metadata": {},
   "source": [
    "The probability mass function for the Binomial distribution is:"
   ]
  },
  {
   "cell_type": "markdown",
   "id": "1f89fb9c-8dac-4f34-9c7d-78035eb1bd87",
   "metadata": {},
   "source": [
    "$f(k) = {n\\choose k}p^k(1-p)^{n-k}$ for $k\\in \\{0,1,...,n\\}, 0 \\leq p \\geq 1$"
   ]
  },
  {
   "cell_type": "code",
   "execution_count": 46,
   "id": "c5e91895-3041-4b73-b0d2-92e7c970b415",
   "metadata": {},
   "outputs": [],
   "source": [
    "d_binom1 = stats.binom.rvs(n=100, p=0.1, loc=0, size=100000)\n",
    "d_binom2 = stats.binom.rvs(n=100, p=0.25, loc=0, size=100000)\n",
    "d_binom3 = stats.binom.rvs(n=100, p=0.50, loc=0, size=100000)\n",
    "d_binom4 = stats.binom.rvs(n=100, p=0.75, loc=0, size=100000)"
   ]
  },
  {
   "cell_type": "code",
   "execution_count": 60,
   "id": "26fb9252-2984-4c94-a057-5d6245b08253",
   "metadata": {},
   "outputs": [
    {
     "data": {
      "image/png": "[encoded data removed]",
      "text/plain": [
       "<Figure size 1080x720 with 4 Axes>"
      ]
     },
     "metadata": {
      "needs_background": "light"
     },
     "output_type": "display_data"
    }
   ],
   "source": [
    "fig, ax = plt.subplots(2,2)\n",
    "\n",
    "ax[0][0].hist(d_binom1, 50, density=True)\n",
    "ax[0][1].hist(d_binom2, 50, density=True)\n",
    "ax[1][0].hist(d_binom3, 50, density=True)\n",
    "ax[1][1].hist(d_binom4, 50, density=True)\n",
    "\n",
    "ax[0][0].set_xlim(0, 100)\n",
    "ax[0][1].set_xlim(0, 100)\n",
    "ax[1][0].set_xlim(0, 100)\n",
    "ax[1][1].set_xlim(0, 100)\n",
    "\n",
    "ax[0][0].set_title('p=0.1')\n",
    "ax[0][1].set_title('p=0.25')\n",
    "ax[1][0].set_title('p=0.5')\n",
    "ax[1][1].set_title('p=0.75')\n",
    "\n",
    "plt.show()"
   ]
  },
  {
   "cell_type": "markdown",
   "id": "8a4686a1-e0f0-44e7-8b4b-c905c8d4a3b7",
   "metadata": {},
   "source": [
    "So now hypothetically, lets calculate the probability of the background producing a measurement of k=86 or higher from $p=0.75$"
   ]
  },
  {
   "cell_type": "code",
   "execution_count": 61,
   "id": "0cfcae02-354e-40db-874b-82242b6575fb",
   "metadata": {},
   "outputs": [
    {
     "data": {
      "text/plain": [
       "0.0024578225428017815"
      ]
     },
     "execution_count": 61,
     "metadata": {},
     "output_type": "execute_result"
    }
   ],
   "source": [
    "prob_binom = stats.binom.sf(k=86, n=100, p=0.75, loc=0)\n",
    "prob_binom"
   ]
  },
  {
   "cell_type": "code",
   "execution_count": 64,
   "id": "83b0d979-558d-43ee-a4da-3673f7205f8d",
   "metadata": {},
   "outputs": [
    {
     "data": {
      "text/plain": [
       "2.8125102888379283"
      ]
     },
     "execution_count": 64,
     "metadata": {},
     "output_type": "execute_result"
    }
   ],
   "source": [
    "sigma_binom = -stats.norm.ppf(prob_binom)\n",
    "sigma_binom"
   ]
  },
  {
   "cell_type": "markdown",
   "id": "818ea01d-2d7c-48ad-a688-5f4dced14ecd",
   "metadata": {},
   "source": [
    "So the probabiliity of obtaining a measurement of 86 or higher when $p=0.75$ from the background is 0.024%"
   ]
  },
  {
   "cell_type": "markdown",
   "id": "7bc32208-7ca1-4d5c-82d6-e5103f5f7b8f",
   "metadata": {},
   "source": [
    "The sigma value for that probability is 2.8 sigma."
   ]
  },
  {
   "cell_type": "markdown",
   "id": "8a0e4ccd-a6af-4bad-9127-33151d5a6bac",
   "metadata": {},
   "source": [
    "So beacuse the Binomial distributions, and resulting probabilities and sigmas are discrete, that means that the measurements we get from the experiments will also be discrete."
   ]
  }
 ],
 "metadata": {
  "kernelspec": {
   "display_name": "Python 3",
   "language": "python",
   "name": "python3"
  },
  "language_info": {
   "codemirror_mode": {
    "name": "ipython",
    "version": 3
   },
   "file_extension": ".py",
   "mimetype": "text/x-python",
   "name": "python",
   "nbconvert_exporter": "python",
   "pygments_lexer": "ipython3",
   "version": "3.8.8"
  }
 },
 "nbformat": 4,
 "nbformat_minor": 5
}
