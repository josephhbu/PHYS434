{
 "cells": [
  {
   "cell_type": "markdown",
   "id": "8a05714e-aa34-43c1-9eac-57ca04b5a559",
   "metadata": {},
   "source": [
    "# PHYS 434 HW 3"
   ]
  },
  {
   "cell_type": "markdown",
   "id": "293da81e-f368-474e-aa58-3729faac34f3",
   "metadata": {},
   "source": [
    "#### Joseph Bu"
   ]
  },
  {
   "cell_type": "code",
   "execution_count": 1,
   "id": "9bc1d76d-2f99-4432-a1b4-0a601e0953d6",
   "metadata": {},
   "outputs": [],
   "source": [
    "import numpy as np\n",
    "import matplotlib\n",
    "import matplotlib.pyplot as plt\n",
    "import scipy\n",
    "from scipy import stats\n",
    "import math\n",
    "import pandas as pd\n",
    "\n",
    "plt.rcParams[\"figure.figsize\"] = (15,10)"
   ]
  },
  {
   "cell_type": "markdown",
   "id": "fdccfd3a-b269-4034-8596-5710a586142c",
   "metadata": {},
   "source": [
    "## Problem #1"
   ]
  },
  {
   "cell_type": "markdown",
   "id": "f7d6275a-0583-4918-afaf-e3ca41d20888",
   "metadata": {},
   "source": [
    "### 1a) Which algorithm makes the fewest mistakes?"
   ]
  },
  {
   "cell_type": "markdown",
   "id": "39aa8a56-93c4-4e42-8d74-ac930d1e6ad2",
   "metadata": {},
   "source": [
    "The first or older algorithm makes the fewest mistakes. The first algorithm makes 8 miscategorizations or 8 mistakes, while the new algorithm makes a total of 12 mistakes."
   ]
  },
  {
   "cell_type": "markdown",
   "id": "db86ab4a-5945-4cda-acd3-26e5fae8f22f",
   "metadata": {},
   "source": [
    "### 1b) Which algorithm is better for the zoo? Explain."
   ]
  },
  {
   "cell_type": "markdown",
   "id": "2c2de48c-ad2f-45cc-a85e-4ef257466c2d",
   "metadata": {},
   "source": [
    "The new algorithm is better for the zoo. Although the new algorithm makes more mistakes, it makes less false person identification which means fewer birds escape. The new algorithm only makes 1 false person identification while the old algorithm or NN makes 3 false person identifications."
   ]
  },
  {
   "cell_type": "markdown",
   "id": "46ededdb-ba8f-481b-bfbd-eba0e5014214",
   "metadata": {},
   "source": [
    "### 1c) During the pandemic the number of visitors plummets, and it is only the zoo keeper visiting. So instead of 52% of the photos taken at the aviary door being people, it is now only 1%. Make new truth tables for both algorithms."
   ]
  },
  {
   "cell_type": "code",
   "execution_count": 5,
   "id": "1f2a6529-4ecd-493a-9905-aca99148a462",
   "metadata": {},
   "outputs": [],
   "source": [
    "NN_false_birds_old = 3/48\n",
    "NN_false_people_old = 5/52\n",
    "\n",
    "NA_false_birds_old = 1/48\n",
    "NA_false_people_old = 11/52"
   ]
  },
  {
   "cell_type": "code",
   "execution_count": 9,
   "id": "127d7fba-bbf0-4cc0-9041-fe9c32243966",
   "metadata": {},
   "outputs": [
    {
     "data": {
      "text/plain": [
       "(6, 0)"
      ]
     },
     "execution_count": 9,
     "metadata": {},
     "output_type": "execute_result"
    }
   ],
   "source": [
    "new_birds = 99\n",
    "new_people = 1\n",
    "\n",
    "NN_false_birds_new = int(NN_false_birds_old * new_birds)\n",
    "NN_false_people_new = int(NN_false_people_old * new_people)\n",
    "\n",
    "NN_false_birds_new, NN_false_people_new"
   ]
  },
  {
   "cell_type": "markdown",
   "id": "e552b712-8e03-499f-8fac-f62c2d517b05",
   "metadata": {},
   "source": [
    "|| True Bird | True Person |\n",
    "| ------- | --------- | ----------- |\n",
    "| NN Bird | 93 | 0 |\n",
    "| NN Person | 6 | 1 |"
   ]
  },
  {
   "cell_type": "code",
   "execution_count": 10,
   "id": "623b4144-4fdc-4b6a-bb92-409aace0df13",
   "metadata": {},
   "outputs": [
    {
     "data": {
      "text/plain": [
       "(2, 0)"
      ]
     },
     "execution_count": 10,
     "metadata": {},
     "output_type": "execute_result"
    }
   ],
   "source": [
    "NA_false_birds_new = int(NA_false_birds_old * new_birds)\n",
    "NA_false_people_new = int(NA_false_people_old * new_people)\n",
    "\n",
    "NA_false_birds_new, NA_false_people_new"
   ]
  },
  {
   "cell_type": "markdown",
   "id": "68bc8b45-d559-41cf-8400-d63ffe0d22c1",
   "metadata": {},
   "source": [
    "|| True Bird | True Person |\n",
    "| ------- | --------- | ----------- |\n",
    "| NN Bird | 97 | 0 |\n",
    "| NN Person | 2 | 1 |"
   ]
  },
  {
   "cell_type": "markdown",
   "id": "a07a0105-2705-4f63-b36a-75b3a889ff02",
   "metadata": {},
   "source": [
    "## Problem #2"
   ]
  },
  {
   "cell_type": "markdown",
   "id": "94e1e177-9e0f-4880-8332-b9786f6fc645",
   "metadata": {},
   "source": [
    "### 2a) What is the pdf of the sum of two identical exponential distributions?"
   ]
  },
  {
   "cell_type": "markdown",
   "id": "228bd561-a0e4-4071-93c5-8eab89ce9262",
   "metadata": {},
   "source": [
    "The pdf of the sum of 2 identical exponential distributions is a __Erlang Distribution__"
   ]
  },
  {
   "cell_type": "markdown",
   "id": "7b9ec78a-9d28-46a6-9480-c37b4f2a7363",
   "metadata": {},
   "source": [
    "$f(x;k,\\lambda )={\\lambda ^{k}x^{{k-1}}e^{{-\\lambda x}} \\over (k-1)!}\\quad {\\mbox{for }}x,\\lambda \\geq 0$"
   ]
  },
  {
   "cell_type": "markdown",
   "id": "9eb5499e-2032-4bee-840c-cbe099a71c01",
   "metadata": {},
   "source": [
    "### 2b) What is the pdf of the ratio of two zero-mean unity variance normal distributions  $X_1/X_2$ ?"
   ]
  },
  {
   "cell_type": "markdown",
   "id": "ee680630-776f-40df-9e0a-2185a9865f10",
   "metadata": {},
   "source": [
    "The pdf of the ratio of two zero-mean unity variance normal distributions is a __Cauchy Distribution__"
   ]
  },
  {
   "cell_type": "markdown",
   "id": "620416b1-16d6-4996-8bb0-2daf96ffc12a",
   "metadata": {},
   "source": [
    "$f(x;x_{0},\\gamma )={1 \\over \\pi \\gamma }\\left[{\\gamma ^{2} \\over (x-x_{0})^{2}+\\gamma ^{2}}\\right]$"
   ]
  },
  {
   "cell_type": "markdown",
   "id": "57e8d6cd-bb33-47f8-aec5-3174991ce48c",
   "metadata": {},
   "source": [
    "### 2c) So far we have looked at 1D probability distributions, but it is possible to have a multi-dimensional vector distribution. A simple first introduction is the 2D Guassian; it looks like a smeared spot. Mathematically this is given by  Xi^+Yj^  where both  X  and  Y  are drawn from 1D Gaussian distributions. If I measure the amplitude of this vector, what is its pdf? (Hint, the amplitude is always positive.)"
   ]
  },
  {
   "cell_type": "markdown",
   "id": "83d9947c-95ea-4a97-87a2-92229be2ddc6",
   "metadata": {},
   "source": [
    "It is the Multivariate Normal Distribution or specifically the Bivariate Normal Distribution."
   ]
  }
 ],
 "metadata": {
  "kernelspec": {
   "display_name": "Python 3",
   "language": "python",
   "name": "python3"
  },
  "language_info": {
   "codemirror_mode": {
    "name": "ipython",
    "version": 3
   },
   "file_extension": ".py",
   "mimetype": "text/x-python",
   "name": "python",
   "nbconvert_exporter": "python",
   "pygments_lexer": "ipython3",
   "version": "3.8.8"
  }
 },
 "nbformat": 4,
 "nbformat_minor": 5
}
